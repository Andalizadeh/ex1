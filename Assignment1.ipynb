{
 "cells": [
  {
   "cell_type": "code",
   "execution_count": 4,
   "id": "ac1fdfec-1885-46bb-a234-56b02de8a2ce",
   "metadata": {},
   "outputs": [
    {
     "data": {
      "text/plain": [
       "array([[ True,  True,  True,  True,  True],\n",
       "       [ True,  True,  True,  True,  True],\n",
       "       [ True,  True,  True,  True,  True],\n",
       "       [ True,  True,  True,  True,  True]])"
      ]
     },
     "execution_count": 4,
     "metadata": {},
     "output_type": "execute_result"
    }
   ],
   "source": [
    "#Assignment\n",
    "# %pip install numpy\n",
    "import numpy as np\n",
    "\n",
    "#Q3: Create a 4×5 numpy array of all True’s.\n",
    "q3 = np.ones((4, 5), dtype = bool)\n",
    "q3\n",
    "\n",
    "#OR\n",
    "# q33=np.full((4,5),True)\n",
    "# q33"
   ]
  },
  {
   "cell_type": "code",
   "execution_count": 7,
   "id": "4ba86c33-7135-434e-815f-256cce54ee25",
   "metadata": {},
   "outputs": [],
   "source": [
    "# Q4: Create an array of integers from 10 to 50 with with step of 3. Save the array in a. Replace all even numbers in a with -1.\n",
    "a=np.arange(10,20,3)\n",
    "a\n",
    "a[:]=-1\n"
   ]
  },
  {
   "cell_type": "code",
   "execution_count": 8,
   "id": "b6bd61e6-e3c2-466d-a2fd-5749c54b4922",
   "metadata": {},
   "outputs": [
    {
     "data": {
      "text/plain": [
       "array([ 1,  3,  5,  7,  9, 11, 13, 15, 17, 19])"
      ]
     },
     "execution_count": 8,
     "metadata": {},
     "output_type": "execute_result"
    }
   ],
   "source": [
    "# Q5: Create an one-dimensional array which includes odd numbers from 1 to 20.\n",
    "q5=np.arange(1,20,2)\n",
    "q5"
   ]
  },
  {
   "cell_type": "code",
   "execution_count": 9,
   "id": "b3da3a62-83c9-44bf-88e1-cd00ca576e02",
   "metadata": {},
   "outputs": [
    {
     "data": {
      "text/plain": [
       "array([ 3,  9, 15])"
      ]
     },
     "execution_count": 9,
     "metadata": {},
     "output_type": "execute_result"
    }
   ],
   "source": [
    "# a: Change all numbers divisible by 3 into 0.\n",
    "\n",
    "q5[(q5 %3 == 0) & (q5>=3)]\n"
   ]
  },
  {
   "cell_type": "code",
   "execution_count": 10,
   "id": "30041d2e-0e41-41b3-ab59-5bda8b1ded73",
   "metadata": {},
   "outputs": [
    {
     "data": {
      "text/plain": [
       "array([[ 1,  3,  5,  7,  9],\n",
       "       [11, 13, 15, 17, 19]])"
      ]
     },
     "execution_count": 10,
     "metadata": {},
     "output_type": "execute_result"
    }
   ],
   "source": [
    "# b: Change the array into a 2x5 matrix.\n",
    "b=q5.reshape(2,5)\n",
    "b"
   ]
  },
  {
   "cell_type": "code",
   "execution_count": 12,
   "id": "b1d17122-36fb-4309-9813-bdbbd04c873b",
   "metadata": {},
   "outputs": [
    {
     "data": {
      "text/plain": [
       "array([[ 1,  3,  0,  7,  9],\n",
       "       [11, 13,  0, 17, 19]])"
      ]
     },
     "execution_count": 12,
     "metadata": {},
     "output_type": "execute_result"
    }
   ],
   "source": [
    "# c: Convert all numbers of the third column into zero. Q6:\n",
    "b[:,2]=0\n",
    "b"
   ]
  },
  {
   "cell_type": "code",
   "execution_count": 14,
   "id": "3c4c051d-c0a8-4c6a-9df6-c0e183048e3a",
   "metadata": {},
   "outputs": [
    {
     "data": {
      "text/plain": [
       "array([1.5   , 1.6875, 1.875 , 2.0625, 2.25  , 2.4375, 2.625 , 2.8125,\n",
       "       3.    ])"
      ]
     },
     "execution_count": 14,
     "metadata": {},
     "output_type": "execute_result"
    }
   ],
   "source": [
    "#a: Create an one-dimensional array, b1, which includes 9 numbers evenly spaced over 1.5 to 3.\n",
    "b1=np.linspace(1.5,3,9)\n",
    "b1"
   ]
  },
  {
   "cell_type": "code",
   "execution_count": 15,
   "id": "567b01d2-7501-4d84-a5ed-4df1e8d85d9c",
   "metadata": {},
   "outputs": [
    {
     "data": {
      "text/plain": [
       "array([[1.35357637, 0.10676823, 2.07453023],\n",
       "       [0.76551108, 0.45955845, 1.66537221],\n",
       "       [1.64469131, 0.52260737, 1.01177228]])"
      ]
     },
     "execution_count": 15,
     "metadata": {},
     "output_type": "execute_result"
    }
   ],
   "source": [
    "# b: Create a 3x3 matrix, b2, which includes random numbers from Gaussian distribution with mean = 1, and sd = 0.75, seed = 1234.\n",
    "np.random.seed(1234)\n",
    "b2 = np.random.normal(1, 0.75, (3, 3))\n",
    "b2\n"
   ]
  },
  {
   "cell_type": "code",
   "execution_count": 18,
   "id": "7e10f347-d60b-4bb4-a5a5-62a68d018f52",
   "metadata": {},
   "outputs": [
    {
     "data": {
      "text/plain": [
       "-1.0770051050177027"
      ]
     },
     "execution_count": 18,
     "metadata": {},
     "output_type": "execute_result"
    }
   ],
   "source": [
    "# c: Calculate the determinant of b2.\n",
    "c=np.linalg.det(b2)\n",
    "c"
   ]
  },
  {
   "cell_type": "code",
   "execution_count": 20,
   "id": "d0d761d6-47a2-4ce1-b82e-521b08e03378",
   "metadata": {},
   "outputs": [
    {
     "data": {
      "text/plain": [
       "array([[1.35357637, 0.76551108, 1.64469131],\n",
       "       [0.10676823, 0.45955845, 0.52260737],\n",
       "       [2.07453023, 1.66537221, 1.01177228]])"
      ]
     },
     "execution_count": 20,
     "metadata": {},
     "output_type": "execute_result"
    }
   ],
   "source": [
    "# d: What is the transpose of matrix b2?\n",
    "b2.T"
   ]
  },
  {
   "cell_type": "code",
   "execution_count": 25,
   "id": "76fefd82-aec6-4509-9dac-54883cf13a3d",
   "metadata": {},
   "outputs": [
    {
     "data": {
      "text/plain": [
       "array([[1.5   , 1.6875, 1.875 ],\n",
       "       [2.0625, 2.25  , 2.4375],\n",
       "       [2.625 , 2.8125, 3.    ]])"
      ]
     },
     "execution_count": 25,
     "metadata": {},
     "output_type": "execute_result"
    }
   ],
   "source": [
    "# e: Convert b1 into a 3x3 matrix.\n",
    "b1=b1.reshape(3,3)\n",
    "b1"
   ]
  },
  {
   "cell_type": "code",
   "execution_count": 26,
   "id": "b8f9a632-2b91-4c9b-9e77-d17c888e0f79",
   "metadata": {},
   "outputs": [
    {
     "data": {
      "text/plain": [
       "array([[2.85357637, 1.79426823, 3.94953023],\n",
       "       [2.82801108, 2.70955845, 4.10287221],\n",
       "       [4.26969131, 3.33510737, 4.01177228]])"
      ]
     },
     "execution_count": 26,
     "metadata": {},
     "output_type": "execute_result"
    }
   ],
   "source": [
    "# f: Calculate summation of b1 and b2.\n",
    "f=b1+b2\n",
    "f"
   ]
  },
  {
   "cell_type": "code",
   "execution_count": 27,
   "id": "cb35139d-72bc-4913-ac5a-fcfe2ce97840",
   "metadata": {},
   "outputs": [
    {
     "data": {
      "text/plain": [
       "array([[ 6.40596071,  1.91554605,  7.81918396],\n",
       "       [ 8.52308626,  2.52807145, 10.49200098],\n",
       "       [10.64021182,  3.14059686, 13.16481801]])"
      ]
     },
     "execution_count": 27,
     "metadata": {},
     "output_type": "execute_result"
    }
   ],
   "source": [
    "# g: Calculate matrix multiplication of b1 and b2.\n",
    "\n",
    "np.dot(b1,b2)\n"
   ]
  },
  {
   "cell_type": "code",
   "execution_count": 36,
   "id": "bc9e3cbf-6640-4299-9fff-39b0365c8343",
   "metadata": {},
   "outputs": [
    {
     "data": {
      "text/plain": [
       "array([1.35357637, 2.07453023, 1.66537221, 1.64469131])"
      ]
     },
     "execution_count": 36,
     "metadata": {},
     "output_type": "execute_result"
    }
   ],
   "source": [
    "# h: Call all numbers of b2 which are greater than mean of b2.\n",
    "b2[b2>(np.mean(b2))]\n",
    "# h=np.mean(b2)\n",
    "# h\n",
    "# b2[b2>h]"
   ]
  },
  {
   "cell_type": "code",
   "execution_count": 53,
   "id": "9a2a2541-9bf6-40ff-a850-2404ec8e2afe",
   "metadata": {},
   "outputs": [
    {
     "data": {
      "text/plain": [
       "array([0.10676823, 2.07453023])"
      ]
     },
     "execution_count": 53,
     "metadata": {},
     "output_type": "execute_result"
    }
   ],
   "source": [
    "# i: Scale matrix b2 using min-max scaling method. End of Code\n",
    "i1=np.min(b2)\n",
    "i1=np.array([i1])\n",
    "\n",
    "i2=np.max(b2)\n",
    "i2=np.array([i2])\n",
    "\n",
    "np.concatenate((i1, i2), axis = 0)"
   ]
  },
  {
   "cell_type": "code",
   "execution_count": null,
   "id": "853463bf-bb2b-4425-b238-78f446b2b186",
   "metadata": {},
   "outputs": [],
   "source": []
  }
 ],
 "metadata": {
  "kernelspec": {
   "display_name": "Python 3 (ipykernel)",
   "language": "python",
   "name": "python3"
  },
  "language_info": {
   "codemirror_mode": {
    "name": "ipython",
    "version": 3
   },
   "file_extension": ".py",
   "mimetype": "text/x-python",
   "name": "python",
   "nbconvert_exporter": "python",
   "pygments_lexer": "ipython3",
   "version": "3.11.7"
  }
 },
 "nbformat": 4,
 "nbformat_minor": 5
}
